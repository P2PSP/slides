{
 "cells": [
  {
   "cell_type": "markdown",
   "metadata": {
    "slideshow": {
     "slide_type": "slide"
    }
   },
   "source": [
    "# Video Streaming using Icecast/P2PSP\n",
    "\n",
    "* Cristóbal Medina López\n",
    "* Juan Pablo García Ortiz\n",
    "* Juan Alvaro Muñoz Naranjo\n",
    "* José Juan Sánchez Hernández\n",
    "* Leocadio González Casado\n",
    "* Max Mertens\n",
    "* Vicente González Ruiz\n",
    "\n",
    "[SAL, UAL](http://www.hpca.ual.es/)\n",
    "\n",
    "Dic 7, 2017\n",
    "\n",
    "[https://github.com/P2PSP/slides](https://github.com/P2PSP/slides)\n",
    "\n",
    "<img src=\"2017-12-Elche/thanks.png\" style=\"width: 600px;\" align=\"middle\"/>"
   ]
  },
  {
   "cell_type": "markdown",
   "metadata": {
    "slideshow": {
     "slide_type": "slide"
    }
   },
   "source": [
    "## Internet transmission models\n",
    "\n",
    "| MODE | TOPOLOGY | SCOPE | PROTOCOLS | APPLICATIONS/SYSTEMS |\n",
    "|:----:|:--------:|:-----:|:---------:|:--------------------:|\n",
    "| [Unicast](https://en.wikipedia.org/wiki/Unicast) | <img src=\"https://upload.wikimedia.org/wikipedia/commons/thumb/7/75/Unicast.svg/200px-Unicast.svg.png\" style=\"width: 200px;\" align=\"middle\"/> | Whole network | [HTTP](https://en.wikipedia.org/wiki/Hypertext_Transfer_Protocol) [(TCP)](https://en.wikipedia.org/wiki/Transmission_Control_Protocol) | [YouTube/Netflix](https://www.reddit.com/r/networking/comments/2cp356/how_do_streaming_services_like_netflix_and/) |\n",
    "| [Broadcast](https://en.wikipedia.org/wiki/Broadcasting_%28networking%29) | <img src=\"https://upload.wikimedia.org/wikipedia/commons/thumb/d/dc/Broadcast.svg/250px-Broadcast.svg.png\" style=\"width: 200px;\" align=\"middle\"/> | Subnet (LAN) | [ARP](https://en.wikipedia.org/wiki/Address_Resolution_Protocol) | - |\n",
    "| [Multicast](https://en.wikipedia.org/wiki/Multicast) | <img src=\"https://upload.wikimedia.org/wikipedia/commons/thumb/3/30/Multicast.svg/250px-Multicast.svg.png\" style=\"width: 200px;\" align=\"middle\"/> | Defined horizon alg. (routers/TTL) | [SLP](https://en.wikipedia.org/wiki/Service_Location_Protocol) [(UDP)](https://en.wikipedia.org/wiki/User_Datagram_Protocol), [SDP](https://en.wikipedia.org/wiki/Session_Description_Protocol) [(UDP)](https://en.wikipedia.org/wiki/User_Datagram_Protocol) | [Movistar+](http://www.movistar.es/), [Ono TV](https://www.ono.es/television/) |\n",
    "| [Anycast](https://en.wikipedia.org/wiki/Anycast) | <img src=\"https://upload.wikimedia.org/wikipedia/commons/thumb/4/43/Anycast.svg/250px-Anycast.svg.png\" style=\"width: 200px;\" align=\"middle\"/> | Internet | [DNS protocol](https://en.wikipedia.org/wiki/Domain_Name_System) [(UDP)](https://en.wikipedia.org/wiki/User_Datagram_Protocol) | [CDNs](https://www.maxcdn.com/blog/anycast-ip-routing-used-maxcdn/) [(DNS)](https://en.wikipedia.org/wiki/Domain_Name_System) |"
   ]
  },
  {
   "cell_type": "markdown",
   "metadata": {
    "slideshow": {
     "slide_type": "slide"
    }
   },
   "source": [
    "## Streaming models\n",
    "\n",
    "| IP Multicast | IP Unicast and Client/Server Model | IP Unicast and P2P Model |\n",
    "|:------------:|:----------------------------------:|:------------------------:|\n",
    "| ![Multicast](2017-12-Elche/multicast-server.svg) | ![Unicast-CS](2017-12-Elche/unicast-server.svg) | ![Unicast-P2P](2017-12-Elche/unicast-splitter.svg) |"
   ]
  },
  {
   "cell_type": "markdown",
   "metadata": {
    "slideshow": {
     "slide_type": "skip"
    }
   },
   "source": [
    "| IP Multicas | IP Unicast and Client/Server Model | IP Unicast and P2P Model |\n",
    "|:-----------:|:----------------------------------:|:------------------------:|\n",
    "| ![Multicast](2017-12-Elche/multicast-server.png) | ![Unicast-CS](2017-12-Elche/unicast-server.png) | ![Unicast-P2P](2017-12-Elche/unicast-splitter.png) |"
   ]
  },
  {
   "cell_type": "markdown",
   "metadata": {
    "slideshow": {
     "slide_type": "slide"
    }
   },
   "source": [
    "## Lab 1: Streaming with VLC"
   ]
  },
  {
   "cell_type": "markdown",
   "metadata": {
    "slideshow": {
     "slide_type": "slide"
    }
   },
   "source": [
    "## Lab 2: Simple streaming with VLC and Icecast"
   ]
  },
  {
   "cell_type": "markdown",
   "metadata": {
    "slideshow": {
     "slide_type": "slide"
    }
   },
   "source": [
    "## Lab 3: Relaying"
   ]
  },
  {
   "cell_type": "markdown",
   "metadata": {
    "slideshow": {
     "slide_type": "slide"
    }
   },
   "source": [
    "## P2PSP\n",
    "* An [Application-layer Multicast](https://en.wikipedia.org/wiki/Multicast) protocol which uses a push-based (when possible) [fully-connected mesh](https://en.wikipedia.org/wiki/Network_topology) [overlay](https://en.wikipedia.org/wiki/Overlay_network) for real-time [streaming of media content](https://en.wikipedia.org/wiki/Streaming_media) between networked [entities](https://en.wikipedia.org/wiki/Process_%28computing%29)."
   ]
  },
  {
   "cell_type": "markdown",
   "metadata": {
    "slideshow": {
     "slide_type": "subslide"
    }
   },
   "source": [
    "### DBS (Data Broadcasting Set of rules)\n",
    "\n",
    "Provides connectivity among peers using unicast infrastructure."
   ]
  },
  {
   "cell_type": "markdown",
   "metadata": {
    "slideshow": {
     "slide_type": "subslide"
    }
   },
   "source": [
    "#### Definitions\n",
    "\n",
    "1. ${\\cal P}_i$ incomming peer.\n",
    "2. $\\{{\\cal P}_k\\}={\\cal T}_j$ team (incorporated peers, which arrived before than $P_i$). \n",
    "3. ${\\cal R}$ tracker."
   ]
  },
  {
   "cell_type": "markdown",
   "metadata": {
    "slideshow": {
     "slide_type": "subslide"
    }
   },
   "source": [
    "#### Task $P_i$.JOIN($R$)\n",
    "\n",
    "Run by incomming peers.\n",
    "\n",
    "1. $[S_j] \\gets R$\n",
    "2. for all ${\\cal P}_k\\in [{\\cal T}_j] \\gets {\\cal S}_j$\n",
    "    1. $[\\mathtt{hello}] \\rightarrow {\\cal P}_k$"
   ]
  },
  {
   "cell_type": "markdown",
   "metadata": {
    "slideshow": {
     "slide_type": "subslide"
    }
   },
   "source": [
    "#### Task $P_k$.ACCEPT($P_i$)\n",
    "\n",
    "Run by incorporated peers.\n",
    "\n",
    "1. While True:\n",
    "    1. $[\\mathtt{hello}] \\gets {\\cal P}_i$\n",
    "    2. $F[{\\cal P}_k] = {\\cal P}_i$"
   ]
  },
  {
   "cell_type": "markdown",
   "metadata": {
    "slideshow": {
     "slide_type": "subslide"
    }
   },
   "source": [
    "#### Task ${cal P}_k$.FORWARD\n",
    "\n",
    "Run by peers when receiving a chunk.\n",
    "\n",
    "1. While True:\n",
    "    1. $[\\text{chunk_number}, \\text{chunk}, \\text{origin}] \\gets {\\cal X}$\n",
    "    2. if $\\text{chunk_number} \\geq 0$:\n",
    "        1. if $\\text{buffer}[\\text{chunk_number} \\% \\text{buffer_size}] == \\text{chunk_number}$:\n",
    "            1. "
   ]
  },
  {
   "cell_type": "markdown",
   "metadata": {
    "slideshow": {
     "slide_type": "slide"
    }
   },
   "source": [
    "## Lab 4: Scaling with P2PSP"
   ]
  },
  {
   "cell_type": "code",
   "execution_count": 2,
   "metadata": {},
   "outputs": [
    {
     "name": "stdout",
     "output_type": "stream",
     "text": [
      "xterm: fatal IO error 35 (Resource temporarily unavailable) or KillClient on X server \"/private/tmp/com.apple.launchd.eKul1LUDvr/org.macosforge.xquartz:0\"\r",
      "\r\n"
     ]
    }
   ],
   "source": [
    "!xterm"
   ]
  },
  {
   "cell_type": "code",
   "execution_count": null,
   "metadata": {},
   "outputs": [],
   "source": []
  },
  {
   "cell_type": "code",
   "execution_count": null,
   "metadata": {},
   "outputs": [],
   "source": []
  },
  {
   "cell_type": "code",
   "execution_count": null,
   "metadata": {},
   "outputs": [],
   "source": []
  }
 ],
 "metadata": {
  "celltoolbar": "Slideshow",
  "kernelspec": {
   "display_name": "Python 3",
   "language": "python",
   "name": "python3"
  },
  "language_info": {
   "codemirror_mode": {
    "name": "ipython",
    "version": 3
   },
   "file_extension": ".py",
   "mimetype": "text/x-python",
   "name": "python",
   "nbconvert_exporter": "python",
   "pygments_lexer": "ipython3",
   "version": "3.6.3"
  }
 },
 "nbformat": 4,
 "nbformat_minor": 2
}
