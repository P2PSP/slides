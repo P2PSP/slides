{
 "cells": [
  {
   "cell_type": "markdown",
   "metadata": {
    "slideshow": {
     "slide_type": "slide"
    }
   },
   "source": [
    "# Video Streaming using Icecast/P2PSP\n",
    "\n",
    "* Cristóbal Medina López\n",
    "* Juan Pablo García Ortiz\n",
    "* Juan Alvaro Muñoz Naranjo\n",
    "* José Juan Sánchez Hernández\n",
    "* Leocadio González Casado\n",
    "* Max Mertens\n",
    "* Vicente González Ruiz\n",
    "\n",
    "[SAL, UAL](http://www.hpca.ual.es/)\n",
    "\n",
    "Dic 7, 2017\n",
    "\n",
    "[https://github.com/P2PSP/slides](https://github.com/P2PSP/slides)\n",
    "\n",
    "<img src=\"2017-12-Elche/thanks.png\" style=\"width: 600px;\" align=\"middle\"/>"
   ]
  },
  {
   "attachments": {},
   "cell_type": "markdown",
   "metadata": {
    "slideshow": {
     "slide_type": "slide"
    }
   },
   "source": [
    "## Internet transmission models\n",
    "\n",
    "| MODE | TOPOLOGY | SCOPE | PROTOCOLS | APPLICATIONS/SYSTEMS |\n",
    "|:----:|:--------:|:-----:|:---------:|:--------------------:|\n",
    "| [Unicast](https://en.wikipedia.org/wiki/Unicast) | <img src=\"https://upload.wikimedia.org/wikipedia/commons/thumb/7/75/Unicast.svg/200px-Unicast.svg.png\" style=\"width: 200px;\" align=\"middle\"/> | Whole network | [HTTP](https://en.wikipedia.org/wiki/Hypertext_Transfer_Protocol) [(TCP)](https://en.wikipedia.org/wiki/Transmission_Control_Protocol) | [YouTube/Netflix](https://www.reddit.com/r/networking/comments/2cp356/how_do_streaming_services_like_netflix_and/) |\n",
    "| [Broadcast](https://en.wikipedia.org/wiki/Broadcasting_%28networking%29) | <img src=\"https://upload.wikimedia.org/wikipedia/commons/thumb/d/dc/Broadcast.svg/250px-Broadcast.svg.png\" style=\"width: 200px;\" align=\"middle\"/> | Subnet (LAN) | [ARP](https://en.wikipedia.org/wiki/Address_Resolution_Protocol) | - |\n",
    "| [Multicast](https://en.wikipedia.org/wiki/Multicast) | <img src=\"https://upload.wikimedia.org/wikipedia/commons/thumb/3/30/Multicast.svg/250px-Multicast.svg.png\" style=\"width: 200px;\" align=\"middle\"/> | Defined horizon alg. (routers/TTL) | [SLP](https://en.wikipedia.org/wiki/Service_Location_Protocol) [(UDP)](https://en.wikipedia.org/wiki/User_Datagram_Protocol), [SDP](https://en.wikipedia.org/wiki/Session_Description_Protocol) [(UDP)](https://en.wikipedia.org/wiki/User_Datagram_Protocol) | [Movistar+](http://www.movistar.es/), [Ono TV](https://www.ono.es/television/) |\n",
    "| [Anycast](https://en.wikipedia.org/wiki/Anycast) | <img src=\"https://upload.wikimedia.org/wikipedia/commons/thumb/4/43/Anycast.svg/250px-Anycast.svg.png\" style=\"width: 200px;\" align=\"middle\"/> | Internet | [DNS protocol](https://en.wikipedia.org/wiki/Domain_Name_System) [(UDP)](https://en.wikipedia.org/wiki/User_Datagram_Protocol) | [CDNs](https://www.maxcdn.com/blog/anycast-ip-routing-used-maxcdn/) [(DNS)](https://en.wikipedia.org/wiki/Domain_Name_System) |"
   ]
  },
  {
   "cell_type": "markdown",
   "metadata": {
    "slideshow": {
     "slide_type": "slide"
    }
   },
   "source": [
    "## Streaming models\n",
    "\n",
    "| IP Multicas | IP Unicast and Client/Server Model | IP Unicast and P2P Model |\n",
    "|:-----------:|:----------------------------------:|:------------------------:|\n",
    "| ![Multicast](2017-12-Elche/multicast-server.svg) | ![Unicast-CS](2017-12-Elche/unicast-server.svg) | ![Unicast-P2P](2017-12-Elche/unicast-splitter.svg) |"
   ]
  },
  {
   "cell_type": "markdown",
   "metadata": {
    "slideshow": {
     "slide_type": "skip"
    }
   },
   "source": [
    "| IP Multicas | IP Unicast and Client/Server Model | IP Unicast and P2P Model |\n",
    "|:-----------:|:----------------------------------:|:------------------------:|\n",
    "| ![Multicast](2017-12-Elche/multicast-server.png) | ![Unicast-CS](2017-12-Elche/unicast-server.png) | ![Unicast-P2P](2017-12-Elche/unicast-splitter.png) |"
   ]
  },
  {
   "cell_type": "code",
   "execution_count": null,
   "metadata": {},
   "outputs": [],
   "source": []
  }
 ],
 "metadata": {
  "celltoolbar": "Slideshow",
  "kernelspec": {
   "display_name": "Python 3",
   "language": "python",
   "name": "python3"
  },
  "language_info": {
   "codemirror_mode": {
    "name": "ipython",
    "version": 3
   },
   "file_extension": ".py",
   "mimetype": "text/x-python",
   "name": "python",
   "nbconvert_exporter": "python",
   "pygments_lexer": "ipython3",
   "version": "3.6.1"
  }
 },
 "nbformat": 4,
 "nbformat_minor": 2
}
