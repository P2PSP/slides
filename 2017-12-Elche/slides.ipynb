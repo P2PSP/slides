{
 "cells": [
  {
   "cell_type": "markdown",
   "metadata": {
    "slideshow": {
     "slide_type": "slide"
    }
   },
   "source": [
    "# Video Streaming using Icecast/P2PSP\n",
    "\n",
    "* Cristóbal Medina López\n",
    "* Juan Pablo García Ortiz\n",
    "* Juan Alvaro Muñoz Naranjo\n",
    "* José Juan Sánchez Hernández\n",
    "* Leocadio González Casado\n",
    "* Max Mertens\n",
    "* Vicente González Ruiz\n",
    "\n",
    "[SAL, UAL](http://www.hpca.ual.es/)\n",
    "\n",
    "Dic 7, 2017\n",
    "\n",
    "[https://github.com/P2PSP/slides](https://github.com/P2PSP/slides)\n",
    "\n",
    "<img src=\"data/thanks.png\" style=\"width: 600px;\" align=\"middle\"/>"
   ]
  },
  {
   "cell_type": "markdown",
   "metadata": {
    "slideshow": {
     "slide_type": "slide"
    }
   },
   "source": [
    "## Internet transmission models\n",
    "\n",
    "| MODE | TOPOLOGY | SCOPE | PROTOCOLS | APPLICATIONS/SYSTEMS |\n",
    "|:----:|:--------:|:-----:|:---------:|:--------------------:|\n",
    "| [Unicast](https://en.wikipedia.org/wiki/Unicast) | <img src=\"https://upload.wikimedia.org/wikipedia/commons/thumb/7/75/Unicast.svg/200px-Unicast.svg.png\" style=\"width: 200px;\" align=\"middle\"/> | Whole network | [HTTP](https://en.wikipedia.org/wiki/Hypertext_Transfer_Protocol) [(TCP)](https://en.wikipedia.org/wiki/Transmission_Control_Protocol) | [YouTube/Netflix](https://www.reddit.com/r/networking/comments/2cp356/how_do_streaming_services_like_netflix_and/) |\n",
    "| [Broadcast](https://en.wikipedia.org/wiki/Broadcasting_%28networking%29) | <img src=\"https://upload.wikimedia.org/wikipedia/commons/thumb/d/dc/Broadcast.svg/250px-Broadcast.svg.png\" style=\"width: 200px;\" align=\"middle\"/> | Subnet (LAN) | [ARP](https://en.wikipedia.org/wiki/Address_Resolution_Protocol) | - |\n",
    "| [Multicast](https://en.wikipedia.org/wiki/Multicast) | <img src=\"https://upload.wikimedia.org/wikipedia/commons/thumb/3/30/Multicast.svg/250px-Multicast.svg.png\" style=\"width: 200px;\" align=\"middle\"/> | Defined horizon alg. (routers/TTL) | [SLP](https://en.wikipedia.org/wiki/Service_Location_Protocol) [(UDP)](https://en.wikipedia.org/wiki/User_Datagram_Protocol), [SDP](https://en.wikipedia.org/wiki/Session_Description_Protocol) [(UDP)](https://en.wikipedia.org/wiki/User_Datagram_Protocol) | [Movistar+](http://www.movistar.es/), [Ono TV](https://www.ono.es/television/) |\n",
    "| [Anycast](https://en.wikipedia.org/wiki/Anycast) | <img src=\"https://upload.wikimedia.org/wikipedia/commons/thumb/4/43/Anycast.svg/250px-Anycast.svg.png\" style=\"width: 200px;\" align=\"middle\"/> | Internet | [DNS protocol](https://en.wikipedia.org/wiki/Domain_Name_System) [(UDP)](https://en.wikipedia.org/wiki/User_Datagram_Protocol) | [CDNs](https://www.maxcdn.com/blog/anycast-ip-routing-used-maxcdn/) [(DNS)](https://en.wikipedia.org/wiki/Domain_Name_System) |"
   ]
  },
  {
   "cell_type": "markdown",
   "metadata": {
    "slideshow": {
     "slide_type": "slide"
    }
   },
   "source": [
    "## Streaming models\n",
    "\n",
    "| IP Multicast | IP Unicast and Client/Server Model | IP Unicast and P2P Model |\n",
    "|:------------:|:----------------------------------:|:------------------------:|\n",
    "| ![Multicast](data/multicast-server.svg) | ![Unicast-CS](data/unicast-server.svg) | ![Unicast-P2P](data/unicast-splitter.svg) |"
   ]
  },
  {
   "cell_type": "markdown",
   "metadata": {
    "slideshow": {
     "slide_type": "skip"
    }
   },
   "source": [
    "| IP Multicas | IP Unicast and Client/Server Model | IP Unicast and P2P Model |\n",
    "|:-----------:|:----------------------------------:|:------------------------:|\n",
    "| ![Multicast](data/multicast-server.png) | ![Unicast-CS](data/unicast-server.png) | ![Unicast-P2P](data/unicast-splitter.png) |"
   ]
  },
  {
   "cell_type": "markdown",
   "metadata": {
    "slideshow": {
     "slide_type": "slide"
    }
   },
   "source": [
    "## Lab 1: Streaming with VLC\n",
    "\n",
    "<img src=\"data/VLC.svg\" style=\"width: 300px;\" align=\"middle\"/>"
   ]
  },
  {
   "cell_type": "markdown",
   "metadata": {
    "slideshow": {
     "slide_type": "subslide"
    }
   },
   "source": [
    "#### Download a sample video"
   ]
  },
  {
   "cell_type": "code",
   "execution_count": 6,
   "metadata": {
    "slideshow": {
     "slide_type": "-"
    }
   },
   "outputs": [
    {
     "name": "stdout",
     "output_type": "stream",
     "text": [
      "File already exists :-)\n"
     ]
    }
   ],
   "source": [
    "%%bash\n",
    "if [[ ! -e Big_Buck_Bunny_small.ogv ]]; then\n",
    "    wget https://upload.wikimedia.org/wikipedia/commons/7/79/Big_Buck_Bunny_small.ogv\n",
    "else\n",
    "    echo \"File already exists :-)\"\n",
    "fi"
   ]
  },
  {
   "cell_type": "markdown",
   "metadata": {
    "slideshow": {
     "slide_type": "subslide"
    }
   },
   "source": [
    "#### Label the video with a duration time-stamp"
   ]
  },
  {
   "cell_type": "code",
   "execution_count": null,
   "metadata": {
    "slideshow": {
     "slide_type": "-"
    }
   },
   "outputs": [],
   "source": [
    "%%bash\n",
    "if [[ ! -e Big_Buck_Bunny_small.ogv ]]; then\n",
    "    ffmpeg -i Big_Buck_Bunny_small.ogv -vf \"drawtext=text='%{pts\\:hms}': x=(w-tw)/2: y=h-(2*lh): fontcolor=white: box=1: boxcolor=0x00000000@1\" -codec:v libtheora -codec:a libvorbis LBig_Buck_Bunny_small.ogv\n",
    "else\n",
    "    echo \"File already exists :-)\"\n",
    "fi"
   ]
  },
  {
   "cell_type": "markdown",
   "metadata": {
    "slideshow": {
     "slide_type": "subslide"
    }
   },
   "source": [
    "#### Run VLC serving the video over HTTP"
   ]
  },
  {
   "cell_type": "code",
   "execution_count": 1,
   "metadata": {},
   "outputs": [
    {
     "name": "stderr",
     "output_type": "stream",
     "text": [
      "[0000556332730818] dummy interface: using the dummy interface module...\n",
      "[00007fee5c002dc8] core access out error: socket bind error: Permission denied\n",
      "[00007fee5c002dc8] core access out error: socket bind error: Permission denied\n",
      "[00007fee5c002dc8] core access out error: cannot create socket(s) for HTTP host\n",
      "[00007fee5c002dc8] access_output_http access out error: cannot start HTTP server\n",
      "[00007fee5c001128] stream_out_standard stream out error: no suitable sout access module for `http/ogg://:8080/BBB.ogv'\n",
      "[00007fee5c000dc8] core stream output error: stream chain failed for `http{mux=ogg,dst=:8080/BBB.ogv}'\n",
      "[00007fee70000c08] core input error: cannot start stream output instance, aborting\n",
      "[00005563326dc6c8] core playlist: end of playlist, exiting\n"
     ]
    }
   ],
   "source": [
    "%%bash --bg\n",
    "cvlc LBig_Buck_Bunny_small.ogv --sout \"#http{mux=ogg,dst=:8080/LBBB.ogv}\" :sout-keep &\n",
    "cvlc LBig_Buck_Bunny_small.ogv --sout \"#duplicate{dst=http{dst=:8080/LBBB.ogv},dst=display}\" :sout-keep &"
   ]
  },
  {
   "cell_type": "markdown",
   "metadata": {
    "slideshow": {
     "slide_type": "subslide"
    }
   },
   "source": [
    "#### Run a (or more VLC) client(s)"
   ]
  },
  {
   "cell_type": "code",
   "execution_count": 4,
   "metadata": {},
   "outputs": [
    {
     "name": "stderr",
     "output_type": "stream",
     "text": [
      "[000055a412cf4398] core libvlc: Running vlc with the default interface. Use 'cvlc' to use vlc without interface.\n",
      "[000055b5fa613398] core libvlc: Running vlc with the default interface. Use 'cvlc' to use vlc without interface.\n",
      "Failed to open VDPAU backend libvdpau_va_gl.so: cannot open shared object file: No such file or directory\n",
      "Failed to open VDPAU backend libvdpau_va_gl.so: cannot open shared object file: No such file or directory\n"
     ]
    }
   ],
   "source": [
    "%%bash --bg\n",
    "cvlc http://localhost:8080/LBBB.ogv &\n",
    "cvlc http://localhost:8080/LBBB.ogv"
   ]
  },
  {
   "cell_type": "markdown",
   "metadata": {
    "slideshow": {
     "slide_type": "slide"
    }
   },
   "source": [
    "## Lab 2: Streaming with VLC and Icecast\n",
    "\n",
    "<img src=\"data/icecast-1.svg\" style=\"width: 500px;\" align=\"middle\"/>"
   ]
  },
  {
   "cell_type": "markdown",
   "metadata": {
    "slideshow": {
     "slide_type": "subslide"
    }
   },
   "source": [
    "#### Launch Icecast"
   ]
  },
  {
   "cell_type": "code",
   "execution_count": null,
   "metadata": {
    "collapsed": true
   },
   "outputs": [],
   "source": [
    "%%bash\n",
    "icecast -b -c /etc/icecast/icecast.xml"
   ]
  },
  {
   "cell_type": "markdown",
   "metadata": {},
   "source": [
    "#### Test if Icecast is running"
   ]
  },
  {
   "cell_type": "code",
   "execution_count": null,
   "metadata": {},
   "outputs": [],
   "source": [
    "%%bash\n",
    "firefox http://localhost:8000"
   ]
  },
  {
   "cell_type": "markdown",
   "metadata": {},
   "source": [
    "#### Feed Icecast with a video using VLC"
   ]
  },
  {
   "cell_type": "code",
   "execution_count": null,
   "metadata": {
    "collapsed": true
   },
   "outputs": [],
   "source": [
    "%%bash --bg\n",
    "# Run \"VLC media player\" and select: Media -> Stream -> Add (Select the Big_Buck_Bunny_small.ogv file) -> Stream -> Next -> Change \"File\" by \"Icecast\" -> Add (Address: \"localhost\", Mount Point: \"test.ogg\", Login:pass: \"source:1qaz\" -> Next -> Change \"Video - H.264 + MP3 (MP4)\" by \"Video - Theora + Vorbis (OGG)\" (Transcoding is not necessary) -> Next -> Stream.  \n",
    "# Or run:  \n",
    "cvlc LBig_Buck_Bunny_small.ogv --sout \"#duplicate{dst=std{access=shout,mux=ogg,dst=source:hackme@localhost:8000/LBBB.ogv},dst=display}\" :sout-keep"
   ]
  },
  {
   "cell_type": "markdown",
   "metadata": {},
   "source": [
    "#### Running some clients"
   ]
  },
  {
   "cell_type": "code",
   "execution_count": null,
   "metadata": {},
   "outputs": [],
   "source": [
    "%%bash --bg\n",
    "cvlc http://localhost:8000/LBBB.ogv &\n",
    "cvlc http://localhost:8000/LBBB.ogv"
   ]
  },
  {
   "cell_type": "markdown",
   "metadata": {
    "slideshow": {
     "slide_type": "slide"
    }
   },
   "source": [
    "## Lab 3: Relaying"
   ]
  },
  {
   "cell_type": "markdown",
   "metadata": {
    "slideshow": {
     "slide_type": "slide"
    }
   },
   "source": [
    "## P2PSP\n",
    "* An [Application-layer Multicast](https://en.wikipedia.org/wiki/Multicast) protocol which uses a push-based (when possible) [fully-connected mesh](https://en.wikipedia.org/wiki/Network_topology) [overlay](https://en.wikipedia.org/wiki/Overlay_network) for real-time [streaming of media content](https://en.wikipedia.org/wiki/Streaming_media) between networked [entities](https://en.wikipedia.org/wiki/Process_%28computing%29)."
   ]
  },
  {
   "cell_type": "markdown",
   "metadata": {
    "slideshow": {
     "slide_type": "subslide"
    }
   },
   "source": [
    "### DBS (Data Broadcasting Set of rules)\n",
    "\n",
    "Provides connectivity among peers using unicast infrastructure."
   ]
  },
  {
   "cell_type": "markdown",
   "metadata": {
    "slideshow": {
     "slide_type": "subslide"
    }
   },
   "source": [
    "#### Definitions\n",
    "\n",
    "1. ${\\cal P}_i$ incomming peer.\n",
    "2. $\\{{\\cal P}_k\\} = {\\cal L}_j$ list of incorporated peers (which arrived before than $P_i$). \n",
    "3. ${\\cal R}$ tracker.\n",
    "4. ${\\cal T}_j = {\\cal S}_j \\cup {\\cal L}_j$ $j$-th team.\n",
    "4. ${\\cal S}_j$ splitter of team ${\\cal T}_j$."
   ]
  },
  {
   "cell_type": "markdown",
   "metadata": {
    "slideshow": {
     "slide_type": "subslide"
    }
   },
   "source": [
    "#### Task ${\\cal S}_j$.SERVE_JOINING_PEERS\n",
    "\n",
    "1. While True:\n",
    "    1. Wait for connection from ${\\cal P}_i$\n",
    "    2. if ${\\cal P}_i \\notin {\\cal L}_j$:\n",
    "        1. for all ${\\cal P}_k \\in {\\cal L}_j$:\n",
    "            1. $[{\\cal P}_k] \\Rightarrow {\\cal P}_i$\n",
    "        2. ${\\cal L}_j$.append(${\\cal P}_i$)"
   ]
  },
  {
   "cell_type": "markdown",
   "metadata": {
    "slideshow": {
     "slide_type": "subslide"
    }
   },
   "source": [
    "#### Task $P_i$.JOIN_TEAM\n",
    "\n",
    "Run by incomming peers.\n",
    "\n",
    "1. $[S_j] \\gets R$\n",
    "2. for all ${\\cal P}_k\\in [{\\cal T}_j] \\gets {\\cal S}_j$\n",
    "    1. $[\\mathtt{hello}] \\rightarrow {\\cal P}_k$"
   ]
  },
  {
   "cell_type": "markdown",
   "metadata": {
    "slideshow": {
     "slide_type": "subslide"
    }
   },
   "source": [
    "#### Task $P_k$.ACCEPT_NEIGHBORS\n",
    "\n",
    "Run by incorporated peers.\n",
    "\n",
    "1. While True:\n",
    "    1. $[\\mathtt{hello}] \\gets {\\cal P}_i$\n",
    "    2. $F[{\\cal P}_k]$.insert(${\\cal P}_i$) # Duplicates not allowed"
   ]
  },
  {
   "cell_type": "markdown",
   "metadata": {
    "slideshow": {
     "slide_type": "subslide"
    }
   },
   "source": [
    "#### Task ${\\cal P}_k$.RECEIVE_CHUNK_AND_FLOOD\n",
    "\n",
    "Run by peers when receiving a chunk.\n",
    "\n",
    "1. While True:\n",
    "    1. $[\\mathtt{chunk\\_number}, \\mathtt{chunk}, \\mathtt{origin}] \\gets {\\cal X}$\n",
    "    2. if $\\mathtt{buffer}[\\mathtt{chunk\\_number} \\% \\mathtt{buffer\\_size}] == \\mathtt{chunk\\_number}$:\n",
    "        1. $[\\text{prune}, \\mathtt{chunk\\_number}] \\rightarrow {\\cal X}$\n",
    "    3. else:\n",
    "        1. $\\mathtt{buffer}[\\mathtt{chunk\\_number}] = (\\mathtt{chunk\\_number}, \\mathtt{chunk}, \\mathtt{origin})$\n",
    "        2. if ${\\cal X}$ != ${\\cal S}$:\n",
    "            1. $D[{\\cal X}] = D[{\\cal X}] - 1$\n",
    "            2. $F[{\\cal P}_k] = F[{\\cal P}_k] \\cup {\\cal X}$\n",
    "        3. for all ${\\cal P} \\in F[\\mathtt{origin}]$:\n",
    "            1. $P[{\\cal P}] = P[{\\cal P}] \\cup \\mathtt{chunk\\_number}$\n",
    "        4. for all $\\mathtt{chunk\\_number} \\in P[\\mathtt{neighbor}]$:\n",
    "            1. $\\mathtt{buffer}[\\mathtt{chunk\\_number}] \\rightarrow P[\\mathtt{neighbor}]$\n",
    "            2. $P[\\mathtt{neighbor}]$.remove($\\mathtt{chunk\\_number}$)\n",
    "            3. $D[\\mathtt{neighbor}] = D[\\mathtt{neighbor}] + 1$\n",
    "            4. if $D[\\mathtt{neighbor}] > \\mathtt{MAX\\_CHUNK\\_DEBT}$:\n",
    "                1. $D$.remove($\\mathtt{neighbor}$)\n",
    "                2. $F$.remove($\\mathtt{neighbor}$)\n",
    "        5. $\\mathtt{neighbor} =$ next($P[\\mathtt{neighbor}]$)"
   ]
  },
  {
   "cell_type": "markdown",
   "metadata": {
    "slideshow": {
     "slide_type": "subslide"
    }
   },
   "source": [
    "#### Task ${\\cal P}_k$.CONTROL\n",
    "\n",
    "Run by peers when receiving a control message from other peers.\n",
    "\n",
    "1. While True:\n",
    "    1. $\\mathtt{message} \\gets {\\cal P}_j$\n",
    "    2. if $\\mathtt{message} == [\\text{request}, \\mathtt{chunk\\_number}]$:\n",
    "        1. $\\mathtt{origin} = \\mathtt{buffer}[\\mathtt{chunk\\_number}].\\mathtt{ORIGIN}$\n",
    "        2. $F[\\mathtt{origin}].\\text{append}({\\cal P}_j)$\n",
    "        3. $D[{\\cal P}_j] = 0$\n",
    "    3. else if $\\mathtt{message} == [\\text{prune}, \\mathtt{chunk\\_number}]$:\n",
    "        1. $\\mathtt{origin} = \\mathtt{buffer}[\\mathtt{chunk\\_number}].\\mathtt{ORIGIN}$\n",
    "        2. $F[\\mathtt{origin}].\\text{remove}({\\cal P}_j)$\n",
    "    4. else if $\\mathtt{message} == [\\text{hello}]$:\n",
    "        1. $F[{\\cal P}_k].\\text{append}({\\cal P}_j)$\n",
    "        2. $D[{\\cal P}_j] = 0$\n",
    "    5. else if $\\mathtt{message} == [\\text{goodbye}]$:\n",
    "        1. for all $\\mathtt{list} \\in F$:\n",
    "            1. $\\mathtt{list}$.remove(${\\cal P}_j$)\n",
    "            2. $D$.remove(${\\cal P}_j$)"
   ]
  },
  {
   "cell_type": "markdown",
   "metadata": {
    "slideshow": {
     "slide_type": "slide"
    }
   },
   "source": [
    "## Lab 4: Scaling with P2PSP"
   ]
  },
  {
   "cell_type": "code",
   "execution_count": 2,
   "metadata": {},
   "outputs": [
    {
     "name": "stdout",
     "output_type": "stream",
     "text": [
      "xterm: fatal IO error 35 (Resource temporarily unavailable) or KillClient on X server \"/private/tmp/com.apple.launchd.eKul1LUDvr/org.macosforge.xquartz:0\"\r",
      "\r\n"
     ]
    }
   ],
   "source": [
    "!xterm"
   ]
  },
  {
   "cell_type": "code",
   "execution_count": null,
   "metadata": {
    "collapsed": true
   },
   "outputs": [],
   "source": []
  },
  {
   "cell_type": "code",
   "execution_count": null,
   "metadata": {
    "collapsed": true
   },
   "outputs": [],
   "source": []
  },
  {
   "cell_type": "code",
   "execution_count": null,
   "metadata": {
    "collapsed": true
   },
   "outputs": [],
   "source": []
  }
 ],
 "metadata": {
  "celltoolbar": "Slideshow",
  "kernelspec": {
   "display_name": "Python 3",
   "language": "python",
   "name": "python3"
  },
  "language_info": {
   "codemirror_mode": {
    "name": "ipython",
    "version": 3
   },
   "file_extension": ".py",
   "mimetype": "text/x-python",
   "name": "python",
   "nbconvert_exporter": "python",
   "pygments_lexer": "ipython3",
   "version": "3.6.1"
  }
 },
 "nbformat": 4,
 "nbformat_minor": 2
}
