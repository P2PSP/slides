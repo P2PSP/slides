{
 "cells": [
  {
   "cell_type": "markdown",
   "metadata": {
    "slideshow": {
     "slide_type": "slide"
    }
   },
   "source": [
    "# Video Streaming using Icecast/P2PSP\n",
    "\n",
    "* Cristóbal Medina López\n",
    "* Juan Pablo García Ortiz\n",
    "* Juan Alvaro Muñoz Naranjo\n",
    "* José Juan Sánchez Hernández\n",
    "* Leocadio González Casado\n",
    "* Max Mertens\n",
    "* Vicente González Ruiz\n",
    "\n",
    "[SAL, UAL](http://www.hpca.ual.es/)\n",
    "\n",
    "Dic 7, 2017\n",
    "\n",
    "[https://github.com/P2PSP/slides](https://github.com/P2PSP/slides)\n",
    "\n",
    "<img src=\"data/thanks.png\" style=\"width: 600px;\" align=\"middle\"/>"
   ]
  },
  {
   "cell_type": "markdown",
   "metadata": {
    "slideshow": {
     "slide_type": "slide"
    }
   },
   "source": [
    "## Internet transmission models\n",
    "\n",
    "| MODE | TOPOLOGY | SCOPE | PROTOCOLS | APPLICATIONS/SYSTEMS |\n",
    "|:----:|:--------:|:-----:|:---------:|:--------------------:|\n",
    "| [Unicast](https://en.wikipedia.org/wiki/Unicast) | <img src=\"https://upload.wikimedia.org/wikipedia/commons/thumb/7/75/Unicast.svg/200px-Unicast.svg.png\" style=\"width: 200px;\" align=\"middle\"/> | Whole network | [HTTP](https://en.wikipedia.org/wiki/Hypertext_Transfer_Protocol) [(TCP)](https://en.wikipedia.org/wiki/Transmission_Control_Protocol) | [YouTube/Netflix](https://www.reddit.com/r/networking/comments/2cp356/how_do_streaming_services_like_netflix_and/) |\n",
    "| [Broadcast](https://en.wikipedia.org/wiki/Broadcasting_%28networking%29) | <img src=\"https://upload.wikimedia.org/wikipedia/commons/thumb/d/dc/Broadcast.svg/250px-Broadcast.svg.png\" style=\"width: 200px;\" align=\"middle\"/> | Subnet (LAN) | [ARP](https://en.wikipedia.org/wiki/Address_Resolution_Protocol) | - |\n",
    "| [Multicast](https://en.wikipedia.org/wiki/Multicast) | <img src=\"https://upload.wikimedia.org/wikipedia/commons/thumb/3/30/Multicast.svg/250px-Multicast.svg.png\" style=\"width: 200px;\" align=\"middle\"/> | Defined horizon alg. (routers/TTL) | [SLP](https://en.wikipedia.org/wiki/Service_Location_Protocol) [(UDP)](https://en.wikipedia.org/wiki/User_Datagram_Protocol), [SDP](https://en.wikipedia.org/wiki/Session_Description_Protocol) [(UDP)](https://en.wikipedia.org/wiki/User_Datagram_Protocol) | [Movistar+](http://www.movistar.es/), [Ono TV](https://www.ono.es/television/) |\n",
    "| [Anycast](https://en.wikipedia.org/wiki/Anycast) | <img src=\"https://upload.wikimedia.org/wikipedia/commons/thumb/4/43/Anycast.svg/250px-Anycast.svg.png\" style=\"width: 200px;\" align=\"middle\"/> | Internet | [DNS protocol](https://en.wikipedia.org/wiki/Domain_Name_System) [(UDP)](https://en.wikipedia.org/wiki/User_Datagram_Protocol) | [CDNs](https://www.maxcdn.com/blog/anycast-ip-routing-used-maxcdn/) [(DNS)](https://en.wikipedia.org/wiki/Domain_Name_System) |"
   ]
  },
  {
   "cell_type": "markdown",
   "metadata": {
    "slideshow": {
     "slide_type": "slide"
    }
   },
   "source": [
    "## Streaming models\n",
    "\n",
    "| IP Multicast | IP Unicast and Client/Server Model | IP Unicast and P2P Model |\n",
    "|:------------:|:----------------------------------:|:------------------------:|\n",
    "| ![Multicast](data/multicast-server.svg) | ![Unicast-CS](data/unicast-server.svg) | ![Unicast-P2P](data/unicast-splitter.svg) |"
   ]
  },
  {
   "cell_type": "markdown",
   "metadata": {
    "slideshow": {
     "slide_type": "skip"
    }
   },
   "source": [
    "| IP Multicas | IP Unicast and Client/Server Model | IP Unicast and P2P Model |\n",
    "|:-----------:|:----------------------------------:|:------------------------:|\n",
    "| ![Multicast](data/multicast-server.png) | ![Unicast-CS](data/unicast-server.png) | ![Unicast-P2P](data/unicast-splitter.png) |"
   ]
  },
  {
   "cell_type": "markdown",
   "metadata": {
    "slideshow": {
     "slide_type": "slide"
    }
   },
   "source": [
    "## Lab 1: Streaming with VLC\n",
    "\n",
    "<img src=\"data/VLC.svg\" style=\"width: 300px;\" align=\"middle\"/>"
   ]
  },
  {
   "cell_type": "code",
   "execution_count": 1,
   "metadata": {},
   "outputs": [
    {
     "name": "stdout",
     "output_type": "stream",
     "text": [
      "echo \"Killing all VLC instances (sources and listeners)\"\r\n",
      "killall vlc\r\n",
      "sleep 1\r\n",
      "\r\n",
      "echo \"Creating the source\"\r\n",
      "cvlc ~/Videos/LBig_Buck_Bunny_small.ogv --sout \"#duplicate{dst=http{dst=:8080/LBBB.ogv},dst=display}\" --loop &\r\n",
      "sleep 1\r\n",
      "\r\n",
      "echo \"Create two listeners\"\r\n",
      "cvlc http://localhost:8080/LBBB.ogv &\r\n",
      "cvlc http://localhost:8080/LBBB.ogv &\r\n"
     ]
    }
   ],
   "source": [
    "!cat labs/lab1.sh"
   ]
  },
  {
   "cell_type": "code",
   "execution_count": 2,
   "metadata": {},
   "outputs": [
    {
     "name": "stdout",
     "output_type": "stream",
     "text": [
      "Starting job # 0 in a separate thread.\n"
     ]
    }
   ],
   "source": [
    "%%bash --bg\n",
    "./labs/lab1.sh"
   ]
  },
  {
   "cell_type": "markdown",
   "metadata": {
    "slideshow": {
     "slide_type": "slide"
    }
   },
   "source": [
    "## Lab 2: Streaming with VLC and Icecast\n",
    "\n",
    "<img src=\"data/icecast-1.svg\" style=\"width: 500px;\" align=\"middle\"/>"
   ]
  },
  {
   "cell_type": "code",
   "execution_count": 4,
   "metadata": {},
   "outputs": [
    {
     "name": "stdout",
     "output_type": "stream",
     "text": [
      "set -x\r\n",
      "\r\n",
      "echo \"Killing all VLC instances (sources and listeners)\"\r\n",
      "killall vlc\r\n",
      "sleep 1\r\n",
      "\r\n",
      "echo \"Create two sources\"\r\n",
      "cvlc ~/Videos/LBig_Buck_Bunny_small.ogv --sout \"#duplicate{dst=std{access=shout,mux=ogg,dst=source:hackme@localhost:8000/BBB.ogv},dst=display}\" --loop &\r\n",
      "#cvlc ~/Videos/LBig_Buck_Bunny_small.ogv --sout \"#std{access=shout,mux=ogg,dst=source:hackme@localhost:8000/BBBs.ogv}\" --loop &\r\n",
      "sleep 1\r\n",
      "cvlc  ~/Videos/Lchi84_14_m4.ogv --sout \"#duplicate{dst=std{access=shout,mux=ogg,dst=source:hackme@localhost:8000/chi.ogv},dst=display}\" --loop &\r\n",
      "#cvlc ~/Videos/Lchi84_14_m4.ogv --sout \"#std{access=shout,mux=ogg,dst=source:hackme@localhost:8000/LLL.ogv}\" --loop &\r\n",
      "sleep 1\r\n",
      "read\r\n",
      "\r\n",
      "echo \"Check the infrastructure\"\r\n",
      "firefox http://localhost:8000 2> /dev/null &\r\n",
      "sleep 5\r\n",
      "\r\n",
      "echo \"Create three listeners\"\r\n",
      "cvlc http://localhost:8000/BBB.ogv 2> /dev/null &\r\n",
      "cvlc http://localhost:8000/BBB.ogv 2> /dev/null &\r\n",
      "cvlc http://localhost:8000/chi.ogv 2> /dev/null &\r\n",
      "\r\n",
      "set +x\r\n"
     ]
    }
   ],
   "source": [
    "!cat labs/lab2.sh"
   ]
  },
  {
   "cell_type": "markdown",
   "metadata": {
    "slideshow": {
     "slide_type": "slide"
    }
   },
   "source": [
    "## Lab 3: Relaying\n",
    "<img src=\"data/icecast-2.svg\" style=\"width: 500px;\" align=\"middle\"/>\n",
    "\n",
    "* Icecast servers can be connected following a tree structure to increase scalability.\n",
    "* All or a subset of the streams (channels) can be relayed between servers.\n",
    "* Clients, the DNS or an intermediate server (which performs [HTTP redirection](https://en.wikipedia.org/wiki/URL_redirection)) are in charge of selecting the most suitable server."
   ]
  },
  {
   "cell_type": "code",
   "execution_count": 5,
   "metadata": {},
   "outputs": [
    {
     "name": "stdout",
     "output_type": "stream",
     "text": [
      "set -x\r\n",
      "\r\n",
      "echo \"Killing all VLC instances\"\r\n",
      "killall vlc\r\n",
      "sleep 1\r\n",
      "\r\n",
      "echo \"Run a second Icecast2 server listening at port 9000\"\r\n",
      "killall icecast2\r\n",
      "sleep 1\r\n",
      "# The file ~/icecast/icecast.xml must be configured to listen at port\r\n",
      "# 9000 and to relay all the master's channels\r\n",
      "/usr/bin/icecast2 -b -c ~/icecast/icecast.xml\r\n",
      "sleep 5\r\n",
      "\r\n",
      "echo \"Feed the fist (8000) icecast server\"\r\n",
      "cvlc ~/Videos/LBig_Buck_Bunny_small.ogv --sout \"#std{access=shout,mux=ogg,dst=source:hackme@localhost:8000/BBB.ogv}\" --loop &\r\n",
      "sleep 1\r\n",
      "cvlc ~/Videos/Lchi84_14_m4.ogv --sout \"#std{access=shout,mux=ogg,dst=source:hackme@localhost:8000/chi.ogv}\" --loop &\r\n",
      "sleep 1\r\n",
      "\r\n",
      "echo \"Feed the second (9000) icecast server\"\r\n",
      "cvlc ~/Videos/Lhcil2003_01.ogv --sout \"#std{access=shout,mux=ogg,dst=source:hackme@localhost:9000/hcil.ogv}\" --loop &\r\n",
      "sleep 1\r\n",
      "\r\n",
      "echo \"Check the infrastructure\"\r\n",
      "firefox http://localhost:8000 2> /dev/null &\r\n",
      "sleep 10\r\n",
      "firefox http://localhost:9000  2> /dev/null\r\n",
      "sleep 2\r\n",
      "echo \"Plase, push <enter> to continue\"\r\n",
      "read\r\n",
      "\r\n",
      "echo \"Run the listeners, one for the 8000 and two for the 9000\"\r\n",
      "cvlc http://localhost:8000/BBB.ogv 2> /dev/null &\r\n",
      "sleep 1\r\n",
      "cvlc http://localhost:9000/chi.ogv 2> /dev/null &\r\n",
      "sleep 1\r\n",
      "cvlc http://localhost:9000/hcil.ogv 2> /dev/null &\r\n",
      "\r\n",
      "set +x\r\n"
     ]
    }
   ],
   "source": [
    "!cat labs/lab3.sh"
   ]
  },
  {
   "cell_type": "code",
   "execution_count": null,
   "metadata": {},
   "outputs": [],
   "source": [
    "%%bash --bg\n",
    "./labs/lab3.sh"
   ]
  },
  {
   "cell_type": "markdown",
   "metadata": {
    "slideshow": {
     "slide_type": "slide"
    }
   },
   "source": [
    "## P2PSP\n",
    "* An [Application-layer Multicast](https://en.wikipedia.org/wiki/Multicast) protocol which uses a push-based [fully-connected mesh](https://en.wikipedia.org/wiki/Network_topology) (when possible) [overlay](https://en.wikipedia.org/wiki/Overlay_network) for real-time [streaming of media content](https://en.wikipedia.org/wiki/Streaming_media) between networked [entities](https://en.wikipedia.org/wiki/Process_%28computing%29).\n",
    "\n",
    "<img src=\"data/full-mesh.svg\" style=\"width: 400px;\" align=\"center\"/>"
   ]
  },
  {
   "cell_type": "markdown",
   "metadata": {
    "slideshow": {
     "slide_type": "subslide"
    }
   },
   "source": [
    "### ALM (Application-Layer Multicast) versus NLM (Network-Layer Multicast)\n",
    "|![NLM](data/NLM.svg)|![CS-ALM](data/CS-ALM.svg)|![P2P-ALM](data/P2P-ALM.svg)|\n",
    "|:------------------:|:------------------------:|:--------------------------:|\n",
    "|Network Layer Multicast|Client/Server Application Multicast|Peer-to-Peer Application Multicast|"
   ]
  },
  {
   "cell_type": "markdown",
   "metadata": {
    "slideshow": {
     "slide_type": "subslide"
    }
   },
   "source": [
    "### Push-based versus Pull-based\n",
    "| ![NLM](data/push-based.svg) | ![CS-ALM](data/pull-based.svg) |\n",
    "| :-------------------------: | :----------------------------: |\n",
    "| Push-based Protocol         | Pull-based Protocol            |"
   ]
  },
  {
   "cell_type": "markdown",
   "metadata": {
    "slideshow": {
     "slide_type": "subslide"
    }
   },
   "source": [
    "### DBS (Data Broadcasting Set of rules)\n",
    "\n",
    "Provides connectivity among peers using unicast infrastructure."
   ]
  },
  {
   "cell_type": "markdown",
   "metadata": {
    "slideshow": {
     "slide_type": "subslide"
    }
   },
   "source": [
    "#### Definitions\n",
    "\n",
    "1. ${\\cal P}_i$ incomming peer.\n",
    "2. $\\{{\\cal P}_k\\} = {\\cal L}_j$ list of incorporated peers (which arrived before than $P_i$). \n",
    "3. ${\\cal R}$ tracker.\n",
    "4. ${\\cal T}_j = {\\cal S}_j \\cup {\\cal L}_j$ $j$-th team.\n",
    "4. ${\\cal S}_j$ splitter of team ${\\cal T}_j$."
   ]
  },
  {
   "cell_type": "markdown",
   "metadata": {
    "slideshow": {
     "slide_type": "subslide"
    }
   },
   "source": [
    "#### Task ${\\cal S}_j$.SERVE_JOINING_PEERS\n",
    "\n",
    "1. While True:\n",
    "    1. Wait for connection from ${\\cal P}_i$\n",
    "    2. if ${\\cal P}_i \\notin {\\cal L}_j$:\n",
    "        1. for all ${\\cal P}_k \\in {\\cal L}_j$:\n",
    "            1. $[{\\cal P}_k] \\Rightarrow {\\cal P}_i$\n",
    "        2. ${\\cal L}_j$.append(${\\cal P}_i$)"
   ]
  },
  {
   "cell_type": "markdown",
   "metadata": {
    "slideshow": {
     "slide_type": "subslide"
    }
   },
   "source": [
    "#### Task $P_i$.JOIN_TEAM\n",
    "\n",
    "Run by incomming peers.\n",
    "\n",
    "1. $[S_j] \\gets R$\n",
    "2. for all ${\\cal P}_k\\in [{\\cal T}_j] \\gets {\\cal S}_j$\n",
    "    1. $[\\mathtt{hello}] \\rightarrow {\\cal P}_k$"
   ]
  },
  {
   "cell_type": "markdown",
   "metadata": {
    "slideshow": {
     "slide_type": "subslide"
    }
   },
   "source": [
    "#### Task $P_k$.ACCEPT_NEIGHBORS\n",
    "\n",
    "Run by incorporated peers.\n",
    "\n",
    "1. While True:\n",
    "    1. $[\\mathtt{hello}] \\gets {\\cal P}_i$\n",
    "    2. $F[{\\cal P}_k] = F[{\\cal P}_k] \\cup {\\cal P}_i$ # Forward chunks depending on their origin"
   ]
  },
  {
   "cell_type": "markdown",
   "metadata": {
    "slideshow": {
     "slide_type": "subslide"
    }
   },
   "source": [
    "#### Task ${\\cal P}_k$.CONTROL\n",
    "\n",
    "Run by peers when receiving a control message from other peers.\n",
    "\n",
    "1. While True:\n",
    "    1. $\\mathtt{message} \\gets {\\cal P}_x$\n",
    "    2. if $\\mathtt{message} == [\\text{request}, \\mathtt{chunk\\_number}]$:\n",
    "        1. $\\mathtt{origin} = \\mathtt{buffer}[\\mathtt{chunk\\_number}].\\mathtt{ORIGIN}$\n",
    "        2. $F[\\mathtt{origin}] = F[\\mathtt{origin}] \\cup {\\cal P}_x$\n",
    "        3. $D[{\\cal P}_x] = 0$\n",
    "    3. else if $\\mathtt{message} == [\\text{prune}, \\mathtt{chunk\\_number}]$:\n",
    "        1. $\\mathtt{origin} = \\mathtt{buffer}[\\mathtt{chunk\\_number}].\\mathtt{ORIGIN}$\n",
    "        2. $F[\\mathtt{origin}].\\text{remove}({\\cal P}_x)$\n",
    "    4. else if $\\mathtt{message} == [\\text{hello}]$:\n",
    "        1. $F[{\\cal P}_k].\\text{append}({\\cal P}_x)$\n",
    "        2. $D[{\\cal P}_x] = 0$\n",
    "        3. $\\mathtt{neighbor} = {\\cal P}_x$\n",
    "    5. else if $\\mathtt{message} == [\\text{goodbye}]$:\n",
    "        1. for all $\\mathtt{list} \\in F$:\n",
    "            1. $\\mathtt{list}$.remove(${\\cal P}_x$)\n",
    "            2. $D$.remove(${\\cal P}_x$)"
   ]
  },
  {
   "cell_type": "markdown",
   "metadata": {
    "slideshow": {
     "slide_type": "subslide"
    }
   },
   "source": [
    "#### Task ${\\cal P}_k$.RECEIVE_CHUNK_AND_FLOOD\n",
    "\n",
    "Run by peers when receiving a chunk.\n",
    "\n",
    "1. While True:\n",
    "    1. $[\\mathtt{chunk\\_number}, \\mathtt{chunk}, \\mathtt{origin}] \\gets {\\cal P}_x$\n",
    "    2. if $\\mathtt{buffer}[\\mathtt{chunk\\_number}].\\mathtt{CHUNK\\_NUMBER} == \\mathtt{chunk\\_number}$:\n",
    "        1. $[\\text{prune}, \\mathtt{chunk\\_number}] \\rightarrow {\\cal P}_x$ # Duplicate chunk received, prune it\n",
    "    3. else:\n",
    "        1. $\\mathtt{buffer}[\\mathtt{chunk\\_number}] = (\\mathtt{chunk\\_number}, \\mathtt{chunk}, \\mathtt{origin})$\n",
    "        2. if ${\\cal P_x}$ != ${\\cal S}$: # If sender != splitter\n",
    "            1. $D[{\\cal P}_x] = D[{\\cal P}_x] - 1$ # Decrement debt\n",
    "            2. $F[{\\cal P}_k] = F[{\\cal P}_k] \\cup {\\cal P}_x$ # Consider ${\\cal P}_x$ as a new neighbor\n",
    "        3. for all $\\mathtt{peer} \\in F[\\mathtt{origin}]$:\n",
    "            1. $P[\\mathtt{peer}] = P[\\mathtt{peer}] \\cup \\mathtt{chunk\\_number}$ # Pending chunks by peer\n",
    "        4. for all $\\mathtt{chunk\\_number} \\in P[\\mathtt{neighbor}]$:\n",
    "            1. $\\mathtt{buffer}[\\mathtt{chunk\\_number}] \\rightarrow P[\\mathtt{neighbor}]$\n",
    "            2. $P[\\mathtt{neighbor}]$.remove($\\mathtt{chunk\\_number}$)\n",
    "            3. $D[\\mathtt{neighbor}] = D[\\mathtt{neighbor}] + 1$\n",
    "            4. if $D[\\mathtt{neighbor}] > \\mathtt{MAX\\_CHUNK\\_DEBT}$:\n",
    "                1. $D$.remove($\\mathtt{neighbor}$)\n",
    "                2. $F$.remove($\\mathtt{neighbor}$)\n",
    "        5. $\\mathtt{neighbor} =$ next($P[\\mathtt{neighbor}]$)"
   ]
  },
  {
   "cell_type": "markdown",
   "metadata": {
    "slideshow": {
     "slide_type": "subslide"
    }
   },
   "source": [
    "<img src=\"data/team_0.svg\" style=\"width: 400px;\" align=\"center\"/>"
   ]
  },
  {
   "cell_type": "markdown",
   "metadata": {
    "slideshow": {
     "slide_type": "subslide"
    }
   },
   "source": [
    "<img src=\"data/team_1.svg\" style=\"width: 400px;\" align=\"center\"/>"
   ]
  },
  {
   "cell_type": "markdown",
   "metadata": {
    "slideshow": {
     "slide_type": "subslide"
    }
   },
   "source": [
    "<img src=\"data/team_2.svg\" style=\"width: 400px;\" align=\"center\"/>"
   ]
  },
  {
   "cell_type": "markdown",
   "metadata": {
    "slideshow": {
     "slide_type": "subslide"
    }
   },
   "source": [
    "<img src=\"data/team_3.svg\" style=\"width: 400px;\" align=\"center\"/>"
   ]
  },
  {
   "cell_type": "markdown",
   "metadata": {
    "slideshow": {
     "slide_type": "subslide"
    }
   },
   "source": [
    "<img src=\"data/team_4.svg\" style=\"width: 400px;\" align=\"center\"/>"
   ]
  },
  {
   "cell_type": "markdown",
   "metadata": {
    "slideshow": {
     "slide_type": "subslide"
    }
   },
   "source": [
    "<img src=\"data/team_5.svg\" style=\"width: 400px;\" align=\"center\"/>"
   ]
  },
  {
   "cell_type": "markdown",
   "metadata": {
    "slideshow": {
     "slide_type": "subslide"
    }
   },
   "source": [
    "<img src=\"data/team_6.svg\" style=\"width: 400px;\" align=\"center\"/>"
   ]
  },
  {
   "cell_type": "markdown",
   "metadata": {
    "slideshow": {
     "slide_type": "subslide"
    }
   },
   "source": [
    "<img src=\"data/team_7.svg\" style=\"width: 400px;\" align=\"center\"/>"
   ]
  },
  {
   "cell_type": "markdown",
   "metadata": {
    "slideshow": {
     "slide_type": "subslide"
    }
   },
   "source": [
    "<img src=\"data/team_8.svg\" style=\"width: 400px;\" align=\"center\"/>"
   ]
  },
  {
   "cell_type": "markdown",
   "metadata": {
    "slideshow": {
     "slide_type": "subslide"
    }
   },
   "source": [
    "<img src=\"data/team_9.svg\" style=\"width: 400px;\" align=\"center\"/>"
   ]
  },
  {
   "cell_type": "markdown",
   "metadata": {
    "slideshow": {
     "slide_type": "subslide"
    }
   },
   "source": [
    "<img src=\"data/team_10.svg\" style=\"width: 400px;\" align=\"center\"/>"
   ]
  },
  {
   "cell_type": "markdown",
   "metadata": {
    "slideshow": {
     "slide_type": "subslide"
    }
   },
   "source": [
    "<img src=\"data/team_11.svg\" style=\"width: 400px;\" align=\"center\"/>"
   ]
  },
  {
   "cell_type": "markdown",
   "metadata": {
    "slideshow": {
     "slide_type": "subslide"
    }
   },
   "source": [
    "<img src=\"data/team_12.svg\" style=\"width: 400px;\" align=\"center\"/>"
   ]
  },
  {
   "cell_type": "markdown",
   "metadata": {
    "slideshow": {
     "slide_type": "subslide"
    }
   },
   "source": [
    "<img src=\"data/team_13.svg\" style=\"width: 400px;\" align=\"center\"/>"
   ]
  },
  {
   "cell_type": "markdown",
   "metadata": {
    "slideshow": {
     "slide_type": "slide"
    }
   },
   "source": [
    "## Lab 4: Scaling with P2PSP"
   ]
  },
  {
   "cell_type": "markdown",
   "metadata": {
    "collapsed": true
   },
   "source": [
    "<img src=\"data/icecast-P2PSP.svg\" style=\"width: 600px;\" align=\"center\"/>\n",
    "\n",
    "* A splitter can be connected to the Icecast tree as a listener."
   ]
  },
  {
   "cell_type": "code",
   "execution_count": 1,
   "metadata": {},
   "outputs": [
    {
     "name": "stdout",
     "output_type": "stream",
     "text": [
      "echo \"Killing all VLC instances\"\r\n",
      "killall vlc\r\n",
      "sleep 1\r\n",
      "\r\n",
      "echo \"Killing all user Icecast2 instances\"\r\n",
      "killall icecast2\r\n",
      "\r\n",
      "echo \"Run a second Icecast2 server listening at port 9000\"\r\n",
      "/usr/bin/icecast2 -b -c ~/icecast/icecast.xml\r\n",
      "sleep 1\r\n",
      "\r\n",
      "echo \"Feed all icecast servers (2 movies for 8000 and 1 for 9000)\"\r\n",
      "cvlc ~/Videos/LBig_Buck_Bunny_small.ogv --sout \"#std{access=shout,mux=ogg,dst=source:hackme@localhost:8000/BBB.ogv}\" --loop &\r\n",
      "sleep 1\r\n",
      "cvlc ~/Videos/Lchi84_14_m4.ogv --sout \"#std{access=shout,mux=ogg,dst=source:hackme@localhost:8000/chi.ogv}\" --loop &\r\n",
      "sleep 1\r\n",
      "cvlc ~/Videos/Lhcil2003_01.ogv --sout \"#std{access=shout,mux=ogg,dst=source:hackme@localhost:9000/hcil.ogv}\" --loop &\r\n",
      "sleep 1\r\n",
      "\r\n",
      "#echo \"Check the infrastructure\"\r\n",
      "#firefox http://localhost:8000 2> /dev/null &\r\n",
      "#sleep 10\r\n",
      "#firefox http://localhost:9000 2> /dev/null\r\n",
      "#sleep 5\r\n",
      "\r\n",
      "echo \"Run a listener connected to the master Icecast server\"\r\n",
      "cvlc http://localhost:8000/BBB.ogv 2> /dev/null &\r\n",
      "sleep 1\r\n",
      "\r\n",
      "echo \"Run a listener connected to the relay Icecast server\"\r\n",
      "cvlc http://localhost:9000/hcil.ogv 2> /dev/null &\r\n",
      "sleep 1\r\n",
      "\r\n",
      "echo \"Create a P2PSP team\"\r\n",
      "xterm -e \"~/P2PSP/p2psp-console/bin/splitter --source_addr 127.0.0.1 --source_port 8000 --splitter_port 8001 --channel BBBs.ogv --header_size 30000\" &\r\n",
      "sleep 1\r\n",
      "xterm -e \"~/P2PSP/p2psp-console/bin/monitor --splitter_addr 127.0.0.1 --splitter_port 8001\" &\r\n",
      "sleep 1\r\n",
      "cvlc http://localhost:9999 & # Monitor's player\r\n",
      "sleep 1\r\n",
      "xterm -e \"~/P2PSP/p2psp-console/bin/peer --splitter_addr 127.0.0.1 --splitter_port 8001 --player_port 10000\" &\r\n",
      "sleep 1\r\n",
      "cvlc http://localhost:10000 & # The first peer\r\n",
      "\r\n"
     ]
    }
   ],
   "source": [
    "!cat labs/lab4.sh"
   ]
  },
  {
   "cell_type": "markdown",
   "metadata": {},
   "source": [
    "<img src=\"data/P2PSP-icecast.svg\" style=\"width: 600px;\" align=\"center\"/>\n",
    "\n",
    "* A source client can be connected to each peer."
   ]
  }
 ],
 "metadata": {
  "celltoolbar": "Slideshow",
  "kernelspec": {
   "display_name": "Python 3",
   "language": "python",
   "name": "python3"
  },
  "language_info": {
   "codemirror_mode": {
    "name": "ipython",
    "version": 3
   },
   "file_extension": ".py",
   "mimetype": "text/x-python",
   "name": "python",
   "nbconvert_exporter": "python",
   "pygments_lexer": "ipython3",
   "version": "3.6.3"
  }
 },
 "nbformat": 4,
 "nbformat_minor": 2
}
